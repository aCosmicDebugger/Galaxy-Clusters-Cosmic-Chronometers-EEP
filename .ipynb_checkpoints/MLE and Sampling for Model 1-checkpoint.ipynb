{
 "cells": [
  {
   "cell_type": "code",
   "execution_count": 1,
   "id": "73cc2e1c",
   "metadata": {},
   "outputs": [],
   "source": [
    "import sys, os\n",
    "# sys.path.insert(0,os.path.realpath(os.path.join(os.getcwd(),'..')))\n",
    "import numpy as np\n",
    "import pandas as pd\n",
    "import matplotlib.pyplot as plt\n",
    "import math\n",
    "import seaborn as sns\n",
    "import scipy.integrate as si\n",
    "import emcee\n",
    "import corner\n",
    "import getdist\n",
    "import warnings\n",
    "warnings.filterwarnings(\"ignore\")\n",
    "\n",
    "from pathlib import Path\n",
    "from HzGPR import H_GPR\n",
    "from HzFid import H_th\n",
    "from scipy.optimize import minimize\n",
    "from getdist import plots, MCSamples\n"
   ]
  },
  {
   "cell_type": "markdown",
   "id": "6c6909a9",
   "metadata": {},
   "source": [
    "# Data upload and definition"
   ]
  },
  {
   "cell_type": "markdown",
   "id": "2cf2cc77",
   "metadata": {},
   "source": [
    "First we're going to upload the data from the DistData.csv  and from FMGas.csv and extract the relevant quantities. Both measured and calculated ones and their respective errors. "
   ]
  },
  {
   "cell_type": "code",
   "execution_count": 37,
   "id": "5694b8a4",
   "metadata": {},
   "outputs": [],
   "source": [
    "dados_distancias = pd.read_csv('Saved_Data/DistData.csv', index_col=0)\n",
    "#dados_distancias"
   ]
  },
  {
   "cell_type": "code",
   "execution_count": 43,
   "id": "91a5ee93",
   "metadata": {},
   "outputs": [],
   "source": [
    "dados_FMG = pd.read_csv('Saved_Data/FMGas.csv')\n",
    "#dados_FMG"
   ]
  },
  {
   "cell_type": "code",
   "execution_count": 14,
   "id": "44c5fa4a",
   "metadata": {},
   "outputs": [],
   "source": [
    "# definindo os parâmetros do modelo fiducial\n",
    "param_cosmo_fid = [0.2657, 0.00493, 0, 0.704, -1]"
   ]
  },
  {
   "cell_type": "markdown",
   "id": "ad592f95",
   "metadata": {},
   "source": [
    "## Distances measures"
   ]
  },
  {
   "cell_type": "markdown",
   "id": "552f31ad",
   "metadata": {},
   "source": [
    "First the angular diameter distances $d_{A}^{fid}$, $d_{A}^{\\, obs}$ and the error associated $\\sigma_{d_{A}}^{2}$"
   ]
  },
  {
   "cell_type": "code",
   "execution_count": 27,
   "id": "e0b2eb2f",
   "metadata": {},
   "outputs": [],
   "source": [
    "dA_fid = np.array(dados_distancias[' dA_fid'])\n",
    "dA_obs = np.array(dados_distancias['dA_obs'])\n",
    "dA_obs_erro = np.array(dados_distancias['dA_obs_erro'])"
   ]
  },
  {
   "cell_type": "markdown",
   "id": "2f07d719",
   "metadata": {},
   "source": [
    "After that, the luminosity distance $d_{L}^{obs}$ and its associated error $\\sigma_{d_{L}}^{2}$:"
   ]
  },
  {
   "cell_type": "code",
   "execution_count": 30,
   "id": "4b329802",
   "metadata": {},
   "outputs": [],
   "source": [
    "dL_obs = np.array(dados_distancias['dL_obs'])\n",
    "dL_obs_erro = np.array(dados_distancias['dL_fid_erro'])"
   ]
  },
  {
   "cell_type": "markdown",
   "id": "4957575e",
   "metadata": {},
   "source": [
    "and finally, we use the de **CDDR** to get $d_{L}^{fid}$, that is:\n",
    "\n",
    "$$\n",
    "d_{L} = \\left(1 + z\\right)^{2}\\cdot d_{A} \\,\\,\\, .\n",
    "$$"
   ]
  },
  {
   "cell_type": "code",
   "execution_count": 35,
   "id": "2751d0ef",
   "metadata": {},
   "outputs": [],
   "source": [
    "z = np.array(dados_distancias['redshift'])"
   ]
  },
  {
   "cell_type": "code",
   "execution_count": 34,
   "id": "7a88e044",
   "metadata": {},
   "outputs": [],
   "source": [
    "dL_fid = ((1+z)**2)*dA_fid"
   ]
  },
  {
   "cell_type": "markdown",
   "id": "9d9d5d23",
   "metadata": {},
   "source": [
    "## $f_{gas}^{obs}$ measurements,  A(z) and $\\bar{f}_{gas}$ :"
   ]
  },
  {
   "cell_type": "markdown",
   "id": "c09f858b",
   "metadata": {},
   "source": [
    "For the calculation of the $\\chi^{2}$ function we need both the measurements of $f_{gas}$, that is $f_{gas}^{obs}$, and the values calculated using the phenomelogical function, $\\bar{f}_{gas}$ and the error associated, $\\sigma_{f}^{2}$."
   ]
  },
  {
   "cell_type": "code",
   "execution_count": 42,
   "id": "4a9f7c76",
   "metadata": {},
   "outputs": [],
   "source": [
    "fgas_obs = np.array(dados_FMG['gmf_obs'])\n",
    "fgas_erro = np.array(dados_FMG['gmf_erro'])\n",
    "fgas_th = np.array(dados_FMG['gmf_bar'])\n",
    "A = np.array(dados_FMG['A'])"
   ]
  },
  {
   "cell_type": "code",
   "execution_count": null,
   "id": "e76abf5c",
   "metadata": {},
   "outputs": [],
   "source": []
  },
  {
   "cell_type": "markdown",
   "id": "5f89a2cd",
   "metadata": {},
   "source": [
    "# Função $\\chi^{2}$ da Fração de Massa e Cálculo do Erro Médio do modelo 1:"
   ]
  },
  {
   "cell_type": "markdown",
   "id": "7f2f72fe",
   "metadata": {},
   "source": [
    "Starting from the logarithm of the likelihood, we have:\n",
    "\n",
    "$$\n",
    "    \\ln\\,\\mathcal{P} \\left( y^{\\text{th} }\\,|\\,y^{ \\text{ob} },\\sigma_{y^{ \\text{ob} }}\\right) \\propto -\\frac{1}{2}\\chi^2 \\left( y^{ \\text{th} }\\,|\\,y^{ \\text{ob} },\\sigma_{y^{\\text{ob} }}\\right)  =\n",
    "    -\\frac{1}{2} \\sum_n \\left[\n",
    "        \\frac{(y^{\\text{th} }(z_n)-y^{\\text{ob} }_{n})^2}{\\sigma_{y^{\\text{ob} }_n}^2}\n",
    "    \\right] \\,\\,\\, ,\n",
    "$$\n",
    "\n",
    "So, for the first two models, we will have:\n",
    "\n",
    "$$\n",
    "y^{\\text{th} }(z_n) = \\gamma_0(1+\\eta_0z)^{2} \\,\\,\\,\\, .\n",
    "$$\n",
    "\n",
    "Thus, for this model, the $\\chi^{2}$ will be:\n",
    "\n",
    "$$\n",
    "\\chi^{2}=\\sum_{i=1}^{40}\\frac{ \\left[ \\gamma_{0} (1+\\eta _{0}z)^{2}-\n",
    "\\frac{f_{\\text{gas},\\ i}^{\\text{obs} } }{ \\bar{f}_{gas} }\\,\\,\\, \\right] ^{2}}{\\sigma _{\\text{\n",
    "tot},\\ i}^{2}}\\text{ .}\n",
    "$$\n",
    "\n",
    "The total error, $\\sigma^{2}_{\\text{tot}}$, is written as:\n",
    "\n",
    "$$\n",
    "\\sigma^{2}_{\\text{tot}} =  \\sum_{n} \\, \\left[ \\frac{\\partial \\, G(X_{n})}{\\partial X_{n}}\\right]\\sigma^{2}_{X_{n}}\n",
    "$$\n",
    "\n",
    "Considering that $G(X_{n})= - \\frac{ f^{\\text{obs}}_{\\text{gas}} }{ \\bar{f} }$, we have:\n",
    "\n",
    "$$ \n",
    "\\sigma^{2}_{\\text{tot} } = \\left[ \\frac{\\partial}{\\partial f^{ \\text{obs}}_{\\text{gas}} } \\left( - \\frac{ f^{\\text{obs}}_{\\text{gas}} }{ \\bar{f}}\\right) \\right]^{2} \\sigma^{2}_{f^{\\text{obs}}_{\\text{gas}}} + \\left[ \\frac{\\partial}{\\partial \\bar{f} } \\left( - \\frac{ f^{\\text{obs}}_{\\text{gas}} }{ \\bar{f}}\\right) \\right]^{2} \\sigma^{2}_{\\bar{f}}\n",
    "$$\n",
    "\n",
    "And thus,\n",
    "\n",
    "$$ \n",
    " \\sigma^{2}_{\\text{tot} } = \\frac{1}{\\bar{f}^{2} } \\sigma^{2}_{f^{\\text{obs}} } + \\frac{f^{ \\text{obs}^{2} } }{\\bar{f}^{4} }\\sigma^{2}_{\\bar{f}}\n",
    "$$\n",
    "\n",
    "$$ \n",
    " \\sigma^{2}_{\\text{tot} } =  \\frac{f^{ \\text{obs}^{2} } }{\\bar{f}^{2} } \\left( \\frac{ \\sigma^{2}_{f^{\\text{obs}} }  }{{f}^{\\text{obs}^{2}} }  +  \\frac{ \\sigma^{2}_{\\bar{f}}  }{\\bar{f}^{2} } \\right)\n",
    "$$\n",
    "\n",
    "Finally, $ \\sigma^{2}_{\\bar{f}}$ is given in the same way:\n",
    "\n",
    "$$ \n",
    "\\sigma^{2}_{\\bar{f}} =  \\sum_{m} \\, \\left[ \\frac{\\partial \\, H(X_{m})}{\\partial X_{m}}\\right]\\sigma^{2}_{X_{n}}\n",
    "$$\n",
    "\n",
    "And thus,\n",
    "\n",
    "$$ \n",
    "\\sigma^{2}_{\\bar{f}} = \\left[ \\frac{\\partial }{\\partial K  } \\bar{f} \\right]^{2} \\sigma^{2}_{K} +  \\left[ \\frac{\\partial }{\\partial A  } \\bar{f} \\right]^{2} \\sigma^{2}_{A} +  \\left[ \\frac{\\partial }{\\partial \\Omega_{b}   } \\bar{f} \\right]^{2} \\sigma^{2}_{\\Omega_{b}} +  \\left[ \\frac{\\partial }{\\partial \\Omega_{m}  } \\bar{f} \\right]^{2} \\sigma^{2}_{\\Omega_{m}} +  \\left[ \\frac{\\partial }{\\partial D^{*}_{A}  } \\bar{f} \\right]^{2} \\sigma^{2}_{D^{*}_{A} } +  \\left[ \\frac{\\partial }{\\partial D_{A}   } \\bar{f} \\right]^{2} \\sigma^{2}_{D_{A} } \n",
    "$$\n",
    "\n",
    "Therefore, the error with respect to $\\bar{f}$,\n",
    "\n",
    "$$\n",
    "\\frac{\\sigma^{2}_{ \\bar{f} } }{\\bar{f}^{2} } = \\left[ \\frac{ \\sigma^{2}_{ K } }{ K^{2} } \\, + \\, \\frac{ \\sigma^{2}_{A} }{A^{2}} \\, + \\,  \\frac{\\sigma_{\\gamma}^{2}}{\\gamma^{2} }\\, + \\frac{ \\sigma^{2}_{ \\Omega_{b} } }{\\Omega_{b}^{2}} \\, + \\, \\sigma^{2}_{\\Omega_{m}}\\cdot \\Omega_{m}^{2} \\, + \\, \\left(\\frac{2}{3}\\right)^{2} \\frac{\\sigma^{2}_{D_{A} } }{D_{A}^{2} } \\,    \\right ]\n",
    "$$\n",
    "\n",
    "Taking care to remember that,\n",
    "\n",
    "$$\n",
    " \\sigma^{2}_{A}  =  \\left( \\frac{\\partial A}{ \\partial \\theta } \\right)^{2} \\sigma^{2}_{\\theta} \n",
    "$$\n",
    "\n",
    "that is,\n",
    "\n",
    "$$\n",
    "\\sigma^{2}_{A} = \\left( \\mbox{log}\\, A\\right)^{2} \\sigma^{2}_{\\theta}\n",
    "$$\n",
    "\n",
    "It can be concluded that the final expression for the total error in the first model is:\n",
    "\n",
    "$$\n",
    "\\sigma^{2}_{\\text{tot} } = \\frac{f^{ \\text{obs}^{2} } }{\\bar{f}^{2} } \\left[ \\frac{ \\sigma^{2}_{f^{\\text{obs}} }  }{{f}^{\\text{obs}^{2}} } \\, + \\, \\frac{ \\sigma^{2}_{ K } }{ K^{2} } \\, + \\, \\frac{\\sigma_{\\gamma}^{2}}{\\gamma^{2} }\\, + \\, \\frac{\\left( \\mbox{log}\\, A\\right)^{2} \\sigma^{2}_{\\theta}}{A^{2}} \\, + \\,  \\frac{ \\sigma^{2}_{ \\Omega_{b} } }{\\Omega_{b}^{2}} \\, + \\, \\sigma^{2}_{\\Omega_{m}}\\cdot \\Omega_{m}^{2} \\, + \\, \\left(\\frac{2}{3}\\right)^{2} \\frac{\\sigma^{2}_{D_{A} } }{D_{A}^{2} } \\,    \\right ]\n",
    "$$"
   ]
  },
  {
   "cell_type": "markdown",
   "id": "fb00007d",
   "metadata": {},
   "source": [
    "### Priors for the Model 1:"
   ]
  },
  {
   "cell_type": "markdown",
   "id": "7a46078c",
   "metadata": {},
   "source": [
    "The priors on $\\eta$ for the first model will be chosen as flat (uniform) priors. Despite being non-informative a priori, they have the advantage of not making any assumptions about the parameter except for the range of values.\n",
    "\n",
    "$$\n",
    "\\ln \\, \\left[\\,\\mathcal{P}(\\eta_{0})\\,\\right] = \\left \\{\\begin{array}{ll}\n",
    "        0 \\,, & \\mbox{ if }\\, -5 < \\eta_{0}\\,  < 5. \\\\\n",
    "        -\\infty \\,, & \\mbox{ outro }\n",
    "    \\end{array}\n",
    "    \\right .\n",
    "$$\n",
    "\n",
    "where, \n",
    "\n",
    "$$\n",
    "-2\\ln\\mathcal{P} =   \\sum_{i=1}^{40}\\frac{ \\left[ (1+\\eta _{0}z)^{2}-\n",
    "\\frac{f_{\\text{gas},\\ i}^{\\text{obs} } }{ \\bar{f}_{gas} }\\,\\,\\,\\,\\, \\right] ^{2}}{\\sigma _{\\text{\n",
    "tot},\\ i}^{2}}\\,\\, +\\,\\, \\sum_{i=1}^{40}\\ln 2\\pi{\\sigma_{\\text{tot}, i}^2} \n",
    "$$\n",
    "\n",
    "So we define the log_prior_mod1 function as follows:"
   ]
  },
  {
   "cell_type": "code",
   "execution_count": 44,
   "id": "cc5fe865",
   "metadata": {},
   "outputs": [],
   "source": [
    "def log_prior_mod1(gama_0, eta_0):\n",
    "    '''\n",
    "    log likelihood para uma prior não informativa, flat nos parâmetros.\n",
    "    '''\n",
    "    \n",
    "    if  -3 < gama_0 < 3 and -3 < eta_0 < 3:\n",
    "        return 0.0\n",
    "\n",
    "    return -np.inf"
   ]
  },
  {
   "cell_type": "markdown",
   "id": "5fc3915c",
   "metadata": {},
   "source": [
    "and the $\\chi^{2}$ "
   ]
  },
  {
   "cell_type": "code",
   "execution_count": 108,
   "id": "908559f1",
   "metadata": {},
   "outputs": [],
   "source": [
    "def chi2_fgas1(gamma_0, eta_0, dA_fid, dA_obs, A, param_cosmo=param_cosmo_fid):\n",
    "    '''\n",
    "    chi2_Fgas é a função que calcula o chi-quadrado da fração de massa do gás em\n",
    "    função dos parâmetros de interesse, gamma_0 e eta_0.\n",
    "    '''\n",
    "    #omega_c, omega_b, omega_k, h, w_x =  [param_cosmo_fid]\n",
    "    \n",
    "    # K(z) que é a \"calibration Constant\" no modelo da fração de massa do gás, e o erro =  ± 0.12\n",
    "    Kz = 0.96\n",
    "    sigma_Kz = 0.12\n",
    "\n",
    "    # \\gamma é o fator de depleção dos bárions, \n",
    "    gamma = 0.848\n",
    "    sigma_gamma = 0.085\n",
    "\n",
    "    sigma_omega_b = 0.0039\n",
    "    sigma_omega_m = 0.0073\n",
    "\n",
    "    # \\theta , e o erro =  ± 0.035\n",
    "    theta = 0.442\n",
    "    sigma_theta = 0.035\n",
    "        \n",
    "    omega_c, omega_b, omega_k, h, w_x = param_cosmo\n",
    "    omega_m = omega_c + omega_b\n",
    "    \n",
    "    frac_f_gas = fgas_obs/fgas_th\n",
    "    \n",
    "    \n",
    "    sigma_tot_2 = (frac_f_gas**2)*(  (fgas_erro/fgas_obs)**2.0 +  (sigma_Kz/Kz)**2.0   + (sigma_gamma/gamma)**2.0\n",
    "                                                                +(sigma_omega_b/omega_b)**2.0 +   (sigma_omega_m*omega_m)**2.0\n",
    "                                                                + (sigma_theta*np.log(A)/A)**2.0 + ( (2/3)*(dA_obs_erro/dA_obs) )**2    )\n",
    "\n",
    "    \n",
    "    return   (  ( gama_0*(1+eta_0*z)**2 - frac_f_gas  )**2.0 ) / sigma_tot_2 + np.log(2*np.pi*sigma_tot_2)       "
   ]
  },
  {
   "cell_type": "code",
   "execution_count": 109,
   "id": "ad3c83a7",
   "metadata": {},
   "outputs": [],
   "source": [
    "#chi2_fgas1(0.85, 0, dA_fid, dA_obs, A, param_cosmo_fid)"
   ]
  },
  {
   "cell_type": "markdown",
   "id": "d75a2c1b",
   "metadata": {},
   "source": [
    "We wish to minimize $\\chi^{2}$ via Maximum Likelihood Estimation or **MLE** for short to get the points where we are going to start our walker, in a Monte Carlo-Markov Chain sampling of parameters distribution.\n",
    "\n",
    "So for the MLE we need to define the log of likelihood function"
   ]
  },
  {
   "cell_type": "code",
   "execution_count": 110,
   "id": "26340a3f",
   "metadata": {},
   "outputs": [],
   "source": [
    "def loglikelihood_fgas1(vals, dA_fid, dA_obs, A):\n",
    "    \n",
    "    \n",
    "    \n",
    "    soma = sum(chi2_fgas1(vals, dA_fid, dA_obs, A))\n",
    "    \n",
    "    return -0.5*soma"
   ]
  },
  {
   "cell_type": "code",
   "execution_count": 111,
   "id": "e5aacab3",
   "metadata": {},
   "outputs": [],
   "source": [
    "#loglikelihood_fgas1(0.85,  0, dA_fid, dA_obs, A, param_cosmo_fid)"
   ]
  },
  {
   "cell_type": "code",
   "execution_count": 112,
   "id": "14a634d9",
   "metadata": {},
   "outputs": [
    {
     "ename": "ValueError",
     "evalue": "not enough values to unpack (expected 5, got 1)",
     "output_type": "error",
     "traceback": [
      "\u001b[0;31m---------------------------------------------------------------------------\u001b[0m",
      "\u001b[0;31mValueError\u001b[0m                                Traceback (most recent call last)",
      "Cell \u001b[0;32mIn[112], line 3\u001b[0m\n\u001b[1;32m      1\u001b[0m initial_vals \u001b[38;5;241m=\u001b[39m [\u001b[38;5;241m0.85\u001b[39m, \u001b[38;5;241m1\u001b[39m]  \n\u001b[0;32m----> 3\u001b[0m result \u001b[38;5;241m=\u001b[39m \u001b[43mminimize\u001b[49m\u001b[43m(\u001b[49m\u001b[43mloglikelihood_fgas1\u001b[49m\u001b[43m,\u001b[49m\u001b[43m \u001b[49m\u001b[43minitial_vals\u001b[49m\u001b[43m,\u001b[49m\u001b[43m \u001b[49m\u001b[43margs\u001b[49m\u001b[38;5;241;43m=\u001b[39;49m\u001b[43m(\u001b[49m\u001b[43m \u001b[49m\u001b[43mdA_fid\u001b[49m\u001b[43m,\u001b[49m\u001b[43m \u001b[49m\u001b[43mdA_obs\u001b[49m\u001b[43m,\u001b[49m\u001b[43m \u001b[49m\u001b[43mA\u001b[49m\u001b[43m)\u001b[49m\u001b[43m,\u001b[49m\n\u001b[1;32m      4\u001b[0m \u001b[43m                  \u001b[49m\u001b[43mmethod\u001b[49m\u001b[38;5;241;43m=\u001b[39;49m\u001b[38;5;124;43m'\u001b[39;49m\u001b[38;5;124;43mBFGS\u001b[39;49m\u001b[38;5;124;43m'\u001b[39;49m\u001b[43m)\u001b[49m\n\u001b[1;32m      6\u001b[0m optimized_gamma_0, optimized_eta_0 \u001b[38;5;241m=\u001b[39m result\u001b[38;5;241m.\u001b[39mx\n\u001b[1;32m      8\u001b[0m \u001b[38;5;28mprint\u001b[39m(\u001b[38;5;124m\"\u001b[39m\u001b[38;5;124mOptimized gamma_0:\u001b[39m\u001b[38;5;124m\"\u001b[39m, optimized_gamma_0)\n",
      "File \u001b[0;32m~/Anaconda3/envs/COSMO/lib/python3.11/site-packages/scipy/optimize/_minimize.py:691\u001b[0m, in \u001b[0;36mminimize\u001b[0;34m(fun, x0, args, method, jac, hess, hessp, bounds, constraints, tol, callback, options)\u001b[0m\n\u001b[1;32m    689\u001b[0m     res \u001b[38;5;241m=\u001b[39m _minimize_cg(fun, x0, args, jac, callback, \u001b[38;5;241m*\u001b[39m\u001b[38;5;241m*\u001b[39moptions)\n\u001b[1;32m    690\u001b[0m \u001b[38;5;28;01melif\u001b[39;00m meth \u001b[38;5;241m==\u001b[39m \u001b[38;5;124m'\u001b[39m\u001b[38;5;124mbfgs\u001b[39m\u001b[38;5;124m'\u001b[39m:\n\u001b[0;32m--> 691\u001b[0m     res \u001b[38;5;241m=\u001b[39m \u001b[43m_minimize_bfgs\u001b[49m\u001b[43m(\u001b[49m\u001b[43mfun\u001b[49m\u001b[43m,\u001b[49m\u001b[43m \u001b[49m\u001b[43mx0\u001b[49m\u001b[43m,\u001b[49m\u001b[43m \u001b[49m\u001b[43margs\u001b[49m\u001b[43m,\u001b[49m\u001b[43m \u001b[49m\u001b[43mjac\u001b[49m\u001b[43m,\u001b[49m\u001b[43m \u001b[49m\u001b[43mcallback\u001b[49m\u001b[43m,\u001b[49m\u001b[43m \u001b[49m\u001b[38;5;241;43m*\u001b[39;49m\u001b[38;5;241;43m*\u001b[39;49m\u001b[43moptions\u001b[49m\u001b[43m)\u001b[49m\n\u001b[1;32m    692\u001b[0m \u001b[38;5;28;01melif\u001b[39;00m meth \u001b[38;5;241m==\u001b[39m \u001b[38;5;124m'\u001b[39m\u001b[38;5;124mnewton-cg\u001b[39m\u001b[38;5;124m'\u001b[39m:\n\u001b[1;32m    693\u001b[0m     res \u001b[38;5;241m=\u001b[39m _minimize_newtoncg(fun, x0, args, jac, hess, hessp, callback,\n\u001b[1;32m    694\u001b[0m                              \u001b[38;5;241m*\u001b[39m\u001b[38;5;241m*\u001b[39moptions)\n",
      "File \u001b[0;32m~/Anaconda3/envs/COSMO/lib/python3.11/site-packages/scipy/optimize/_optimize.py:1362\u001b[0m, in \u001b[0;36m_minimize_bfgs\u001b[0;34m(fun, x0, args, jac, callback, gtol, norm, eps, maxiter, disp, return_all, finite_diff_rel_step, xrtol, **unknown_options)\u001b[0m\n\u001b[1;32m   1359\u001b[0m \u001b[38;5;28;01mif\u001b[39;00m maxiter \u001b[38;5;129;01mis\u001b[39;00m \u001b[38;5;28;01mNone\u001b[39;00m:\n\u001b[1;32m   1360\u001b[0m     maxiter \u001b[38;5;241m=\u001b[39m \u001b[38;5;28mlen\u001b[39m(x0) \u001b[38;5;241m*\u001b[39m \u001b[38;5;241m200\u001b[39m\n\u001b[0;32m-> 1362\u001b[0m sf \u001b[38;5;241m=\u001b[39m \u001b[43m_prepare_scalar_function\u001b[49m\u001b[43m(\u001b[49m\u001b[43mfun\u001b[49m\u001b[43m,\u001b[49m\u001b[43m \u001b[49m\u001b[43mx0\u001b[49m\u001b[43m,\u001b[49m\u001b[43m \u001b[49m\u001b[43mjac\u001b[49m\u001b[43m,\u001b[49m\u001b[43m \u001b[49m\u001b[43margs\u001b[49m\u001b[38;5;241;43m=\u001b[39;49m\u001b[43margs\u001b[49m\u001b[43m,\u001b[49m\u001b[43m \u001b[49m\u001b[43mepsilon\u001b[49m\u001b[38;5;241;43m=\u001b[39;49m\u001b[43meps\u001b[49m\u001b[43m,\u001b[49m\n\u001b[1;32m   1363\u001b[0m \u001b[43m                              \u001b[49m\u001b[43mfinite_diff_rel_step\u001b[49m\u001b[38;5;241;43m=\u001b[39;49m\u001b[43mfinite_diff_rel_step\u001b[49m\u001b[43m)\u001b[49m\n\u001b[1;32m   1365\u001b[0m f \u001b[38;5;241m=\u001b[39m sf\u001b[38;5;241m.\u001b[39mfun\n\u001b[1;32m   1366\u001b[0m myfprime \u001b[38;5;241m=\u001b[39m sf\u001b[38;5;241m.\u001b[39mgrad\n",
      "File \u001b[0;32m~/Anaconda3/envs/COSMO/lib/python3.11/site-packages/scipy/optimize/_optimize.py:332\u001b[0m, in \u001b[0;36m_prepare_scalar_function\u001b[0;34m(fun, x0, jac, args, bounds, epsilon, finite_diff_rel_step, hess)\u001b[0m\n\u001b[1;32m    328\u001b[0m     bounds \u001b[38;5;241m=\u001b[39m (\u001b[38;5;241m-\u001b[39mnp\u001b[38;5;241m.\u001b[39minf, np\u001b[38;5;241m.\u001b[39minf)\n\u001b[1;32m    330\u001b[0m \u001b[38;5;66;03m# ScalarFunction caches. Reuse of fun(x) during grad\u001b[39;00m\n\u001b[1;32m    331\u001b[0m \u001b[38;5;66;03m# calculation reduces overall function evaluations.\u001b[39;00m\n\u001b[0;32m--> 332\u001b[0m sf \u001b[38;5;241m=\u001b[39m \u001b[43mScalarFunction\u001b[49m\u001b[43m(\u001b[49m\u001b[43mfun\u001b[49m\u001b[43m,\u001b[49m\u001b[43m \u001b[49m\u001b[43mx0\u001b[49m\u001b[43m,\u001b[49m\u001b[43m \u001b[49m\u001b[43margs\u001b[49m\u001b[43m,\u001b[49m\u001b[43m \u001b[49m\u001b[43mgrad\u001b[49m\u001b[43m,\u001b[49m\u001b[43m \u001b[49m\u001b[43mhess\u001b[49m\u001b[43m,\u001b[49m\n\u001b[1;32m    333\u001b[0m \u001b[43m                    \u001b[49m\u001b[43mfinite_diff_rel_step\u001b[49m\u001b[43m,\u001b[49m\u001b[43m \u001b[49m\u001b[43mbounds\u001b[49m\u001b[43m,\u001b[49m\u001b[43m \u001b[49m\u001b[43mepsilon\u001b[49m\u001b[38;5;241;43m=\u001b[39;49m\u001b[43mepsilon\u001b[49m\u001b[43m)\u001b[49m\n\u001b[1;32m    335\u001b[0m \u001b[38;5;28;01mreturn\u001b[39;00m sf\n",
      "File \u001b[0;32m~/Anaconda3/envs/COSMO/lib/python3.11/site-packages/scipy/optimize/_differentiable_functions.py:158\u001b[0m, in \u001b[0;36mScalarFunction.__init__\u001b[0;34m(self, fun, x0, args, grad, hess, finite_diff_rel_step, finite_diff_bounds, epsilon)\u001b[0m\n\u001b[1;32m    155\u001b[0m     \u001b[38;5;28mself\u001b[39m\u001b[38;5;241m.\u001b[39mf \u001b[38;5;241m=\u001b[39m fun_wrapped(\u001b[38;5;28mself\u001b[39m\u001b[38;5;241m.\u001b[39mx)\n\u001b[1;32m    157\u001b[0m \u001b[38;5;28mself\u001b[39m\u001b[38;5;241m.\u001b[39m_update_fun_impl \u001b[38;5;241m=\u001b[39m update_fun\n\u001b[0;32m--> 158\u001b[0m \u001b[38;5;28;43mself\u001b[39;49m\u001b[38;5;241;43m.\u001b[39;49m\u001b[43m_update_fun\u001b[49m\u001b[43m(\u001b[49m\u001b[43m)\u001b[49m\n\u001b[1;32m    160\u001b[0m \u001b[38;5;66;03m# Gradient evaluation\u001b[39;00m\n\u001b[1;32m    161\u001b[0m \u001b[38;5;28;01mif\u001b[39;00m callable(grad):\n",
      "File \u001b[0;32m~/Anaconda3/envs/COSMO/lib/python3.11/site-packages/scipy/optimize/_differentiable_functions.py:251\u001b[0m, in \u001b[0;36mScalarFunction._update_fun\u001b[0;34m(self)\u001b[0m\n\u001b[1;32m    249\u001b[0m \u001b[38;5;28;01mdef\u001b[39;00m \u001b[38;5;21m_update_fun\u001b[39m(\u001b[38;5;28mself\u001b[39m):\n\u001b[1;32m    250\u001b[0m     \u001b[38;5;28;01mif\u001b[39;00m \u001b[38;5;129;01mnot\u001b[39;00m \u001b[38;5;28mself\u001b[39m\u001b[38;5;241m.\u001b[39mf_updated:\n\u001b[0;32m--> 251\u001b[0m         \u001b[38;5;28;43mself\u001b[39;49m\u001b[38;5;241;43m.\u001b[39;49m\u001b[43m_update_fun_impl\u001b[49m\u001b[43m(\u001b[49m\u001b[43m)\u001b[49m\n\u001b[1;32m    252\u001b[0m         \u001b[38;5;28mself\u001b[39m\u001b[38;5;241m.\u001b[39mf_updated \u001b[38;5;241m=\u001b[39m \u001b[38;5;28;01mTrue\u001b[39;00m\n",
      "File \u001b[0;32m~/Anaconda3/envs/COSMO/lib/python3.11/site-packages/scipy/optimize/_differentiable_functions.py:155\u001b[0m, in \u001b[0;36mScalarFunction.__init__.<locals>.update_fun\u001b[0;34m()\u001b[0m\n\u001b[1;32m    154\u001b[0m \u001b[38;5;28;01mdef\u001b[39;00m \u001b[38;5;21mupdate_fun\u001b[39m():\n\u001b[0;32m--> 155\u001b[0m     \u001b[38;5;28mself\u001b[39m\u001b[38;5;241m.\u001b[39mf \u001b[38;5;241m=\u001b[39m \u001b[43mfun_wrapped\u001b[49m\u001b[43m(\u001b[49m\u001b[38;5;28;43mself\u001b[39;49m\u001b[38;5;241;43m.\u001b[39;49m\u001b[43mx\u001b[49m\u001b[43m)\u001b[49m\n",
      "File \u001b[0;32m~/Anaconda3/envs/COSMO/lib/python3.11/site-packages/scipy/optimize/_differentiable_functions.py:137\u001b[0m, in \u001b[0;36mScalarFunction.__init__.<locals>.fun_wrapped\u001b[0;34m(x)\u001b[0m\n\u001b[1;32m    133\u001b[0m \u001b[38;5;28mself\u001b[39m\u001b[38;5;241m.\u001b[39mnfev \u001b[38;5;241m+\u001b[39m\u001b[38;5;241m=\u001b[39m \u001b[38;5;241m1\u001b[39m\n\u001b[1;32m    134\u001b[0m \u001b[38;5;66;03m# Send a copy because the user may overwrite it.\u001b[39;00m\n\u001b[1;32m    135\u001b[0m \u001b[38;5;66;03m# Overwriting results in undefined behaviour because\u001b[39;00m\n\u001b[1;32m    136\u001b[0m \u001b[38;5;66;03m# fun(self.x) will change self.x, with the two no longer linked.\u001b[39;00m\n\u001b[0;32m--> 137\u001b[0m fx \u001b[38;5;241m=\u001b[39m \u001b[43mfun\u001b[49m\u001b[43m(\u001b[49m\u001b[43mnp\u001b[49m\u001b[38;5;241;43m.\u001b[39;49m\u001b[43mcopy\u001b[49m\u001b[43m(\u001b[49m\u001b[43mx\u001b[49m\u001b[43m)\u001b[49m\u001b[43m,\u001b[49m\u001b[43m \u001b[49m\u001b[38;5;241;43m*\u001b[39;49m\u001b[43margs\u001b[49m\u001b[43m)\u001b[49m\n\u001b[1;32m    138\u001b[0m \u001b[38;5;66;03m# Make sure the function returns a true scalar\u001b[39;00m\n\u001b[1;32m    139\u001b[0m \u001b[38;5;28;01mif\u001b[39;00m \u001b[38;5;129;01mnot\u001b[39;00m np\u001b[38;5;241m.\u001b[39misscalar(fx):\n",
      "Cell \u001b[0;32mIn[110], line 5\u001b[0m, in \u001b[0;36mloglikelihood_fgas1\u001b[0;34m(vals, dA_fid, dA_obs, A)\u001b[0m\n\u001b[1;32m      1\u001b[0m \u001b[38;5;28;01mdef\u001b[39;00m \u001b[38;5;21mloglikelihood_fgas1\u001b[39m(vals, dA_fid, dA_obs, A):\n\u001b[0;32m----> 5\u001b[0m     soma \u001b[38;5;241m=\u001b[39m \u001b[38;5;28msum\u001b[39m(\u001b[43mchi2_fgas1\u001b[49m\u001b[43m(\u001b[49m\u001b[43mvals\u001b[49m\u001b[43m,\u001b[49m\u001b[43m \u001b[49m\u001b[43mdA_fid\u001b[49m\u001b[43m,\u001b[49m\u001b[43m \u001b[49m\u001b[43mdA_obs\u001b[49m\u001b[43m,\u001b[49m\u001b[43m \u001b[49m\u001b[43mA\u001b[49m\u001b[43m)\u001b[49m)\n\u001b[1;32m      7\u001b[0m     \u001b[38;5;28;01mreturn\u001b[39;00m \u001b[38;5;241m-\u001b[39m\u001b[38;5;241m0.5\u001b[39m\u001b[38;5;241m*\u001b[39msoma\n",
      "Cell \u001b[0;32mIn[108], line 6\u001b[0m, in \u001b[0;36mchi2_fgas1\u001b[0;34m(vals, dA_fid, dA_obs, A)\u001b[0m\n\u001b[1;32m      1\u001b[0m \u001b[38;5;28;01mdef\u001b[39;00m \u001b[38;5;21mchi2_fgas1\u001b[39m(vals, dA_fid, dA_obs, A):\n\u001b[1;32m      2\u001b[0m \u001b[38;5;250m    \u001b[39m\u001b[38;5;124;03m'''\u001b[39;00m\n\u001b[1;32m      3\u001b[0m \u001b[38;5;124;03m    chi2_Fgas é a função que calcula o chi-quadrado da fração de massa do gás em\u001b[39;00m\n\u001b[1;32m      4\u001b[0m \u001b[38;5;124;03m    função dos parâmetros de interesse, gamma_0 e eta_0.\u001b[39;00m\n\u001b[1;32m      5\u001b[0m \u001b[38;5;124;03m    '''\u001b[39;00m\n\u001b[0;32m----> 6\u001b[0m     omega_c, omega_b, omega_k, h, w_x \u001b[38;5;241m=\u001b[39m  [param_cosmo_fid]\n\u001b[1;32m      7\u001b[0m     gamma_0, eta_0 \u001b[38;5;241m=\u001b[39m [vals]\n\u001b[1;32m      9\u001b[0m     \u001b[38;5;66;03m# K(z) que é a \"calibration Constant\" no modelo da fração de massa do gás, e o erro =  ± 0.12\u001b[39;00m\n",
      "\u001b[0;31mValueError\u001b[0m: not enough values to unpack (expected 5, got 1)"
     ]
    }
   ],
   "source": [
    "initial_vals = [0.85, 1]  \n",
    "\n",
    "result = minimize(loglikelihood_fgas1, initial_vals, args=( dA_fid, dA_obs, A),\n",
    "                  method='BFGS')\n",
    "\n",
    "optimized_gamma_0, optimized_eta_0 = result.x\n",
    "\n",
    "print(\"Optimized gamma_0:\", optimized_gamma_0)\n",
    "print(\"Optimized eta_0:\", optimized_eta_0)"
   ]
  },
  {
   "cell_type": "code",
   "execution_count": 113,
   "id": "8e262990",
   "metadata": {},
   "outputs": [
    {
     "ename": "ValueError",
     "evalue": "not enough values to unpack (expected 5, got 1)",
     "output_type": "error",
     "traceback": [
      "\u001b[0;31m---------------------------------------------------------------------------\u001b[0m",
      "\u001b[0;31mValueError\u001b[0m                                Traceback (most recent call last)",
      "Cell \u001b[0;32mIn[113], line 5\u001b[0m\n\u001b[1;32m      1\u001b[0m nll \u001b[38;5;241m=\u001b[39m \u001b[38;5;28;01mlambda\u001b[39;00m \u001b[38;5;241m*\u001b[39margs: \u001b[38;5;241m-\u001b[39mloglikelihood_fgas1(\u001b[38;5;241m*\u001b[39margs)\n\u001b[1;32m      3\u001b[0m initial \u001b[38;5;241m=\u001b[39m np\u001b[38;5;241m.\u001b[39marray([\u001b[38;5;241m0.86\u001b[39m, \u001b[38;5;241m1\u001b[39m]) \u001b[38;5;241m+\u001b[39m \u001b[38;5;241m0.1\u001b[39m \u001b[38;5;241m*\u001b[39m np\u001b[38;5;241m.\u001b[39mrandom\u001b[38;5;241m.\u001b[39mrandn(\u001b[38;5;241m2\u001b[39m)\n\u001b[0;32m----> 5\u001b[0m soln \u001b[38;5;241m=\u001b[39m \u001b[43mminimize\u001b[49m\u001b[43m(\u001b[49m\u001b[43mnll\u001b[49m\u001b[43m,\u001b[49m\u001b[43m \u001b[49m\u001b[43minitial\u001b[49m\u001b[43m,\u001b[49m\u001b[43m \u001b[49m\u001b[43margs\u001b[49m\u001b[38;5;241;43m=\u001b[39;49m\u001b[43m(\u001b[49m\u001b[43mdA_fid\u001b[49m\u001b[43m,\u001b[49m\u001b[43m \u001b[49m\u001b[43mdA_obs\u001b[49m\u001b[43m,\u001b[49m\u001b[43m \u001b[49m\u001b[43mA\u001b[49m\u001b[43m)\u001b[49m\u001b[43m)\u001b[49m\n\u001b[1;32m      7\u001b[0m gamma_0, eta_0 \u001b[38;5;241m=\u001b[39m soln\u001b[38;5;241m.\u001b[39mx\n",
      "File \u001b[0;32m~/Anaconda3/envs/COSMO/lib/python3.11/site-packages/scipy/optimize/_minimize.py:691\u001b[0m, in \u001b[0;36mminimize\u001b[0;34m(fun, x0, args, method, jac, hess, hessp, bounds, constraints, tol, callback, options)\u001b[0m\n\u001b[1;32m    689\u001b[0m     res \u001b[38;5;241m=\u001b[39m _minimize_cg(fun, x0, args, jac, callback, \u001b[38;5;241m*\u001b[39m\u001b[38;5;241m*\u001b[39moptions)\n\u001b[1;32m    690\u001b[0m \u001b[38;5;28;01melif\u001b[39;00m meth \u001b[38;5;241m==\u001b[39m \u001b[38;5;124m'\u001b[39m\u001b[38;5;124mbfgs\u001b[39m\u001b[38;5;124m'\u001b[39m:\n\u001b[0;32m--> 691\u001b[0m     res \u001b[38;5;241m=\u001b[39m \u001b[43m_minimize_bfgs\u001b[49m\u001b[43m(\u001b[49m\u001b[43mfun\u001b[49m\u001b[43m,\u001b[49m\u001b[43m \u001b[49m\u001b[43mx0\u001b[49m\u001b[43m,\u001b[49m\u001b[43m \u001b[49m\u001b[43margs\u001b[49m\u001b[43m,\u001b[49m\u001b[43m \u001b[49m\u001b[43mjac\u001b[49m\u001b[43m,\u001b[49m\u001b[43m \u001b[49m\u001b[43mcallback\u001b[49m\u001b[43m,\u001b[49m\u001b[43m \u001b[49m\u001b[38;5;241;43m*\u001b[39;49m\u001b[38;5;241;43m*\u001b[39;49m\u001b[43moptions\u001b[49m\u001b[43m)\u001b[49m\n\u001b[1;32m    692\u001b[0m \u001b[38;5;28;01melif\u001b[39;00m meth \u001b[38;5;241m==\u001b[39m \u001b[38;5;124m'\u001b[39m\u001b[38;5;124mnewton-cg\u001b[39m\u001b[38;5;124m'\u001b[39m:\n\u001b[1;32m    693\u001b[0m     res \u001b[38;5;241m=\u001b[39m _minimize_newtoncg(fun, x0, args, jac, hess, hessp, callback,\n\u001b[1;32m    694\u001b[0m                              \u001b[38;5;241m*\u001b[39m\u001b[38;5;241m*\u001b[39moptions)\n",
      "File \u001b[0;32m~/Anaconda3/envs/COSMO/lib/python3.11/site-packages/scipy/optimize/_optimize.py:1362\u001b[0m, in \u001b[0;36m_minimize_bfgs\u001b[0;34m(fun, x0, args, jac, callback, gtol, norm, eps, maxiter, disp, return_all, finite_diff_rel_step, xrtol, **unknown_options)\u001b[0m\n\u001b[1;32m   1359\u001b[0m \u001b[38;5;28;01mif\u001b[39;00m maxiter \u001b[38;5;129;01mis\u001b[39;00m \u001b[38;5;28;01mNone\u001b[39;00m:\n\u001b[1;32m   1360\u001b[0m     maxiter \u001b[38;5;241m=\u001b[39m \u001b[38;5;28mlen\u001b[39m(x0) \u001b[38;5;241m*\u001b[39m \u001b[38;5;241m200\u001b[39m\n\u001b[0;32m-> 1362\u001b[0m sf \u001b[38;5;241m=\u001b[39m \u001b[43m_prepare_scalar_function\u001b[49m\u001b[43m(\u001b[49m\u001b[43mfun\u001b[49m\u001b[43m,\u001b[49m\u001b[43m \u001b[49m\u001b[43mx0\u001b[49m\u001b[43m,\u001b[49m\u001b[43m \u001b[49m\u001b[43mjac\u001b[49m\u001b[43m,\u001b[49m\u001b[43m \u001b[49m\u001b[43margs\u001b[49m\u001b[38;5;241;43m=\u001b[39;49m\u001b[43margs\u001b[49m\u001b[43m,\u001b[49m\u001b[43m \u001b[49m\u001b[43mepsilon\u001b[49m\u001b[38;5;241;43m=\u001b[39;49m\u001b[43meps\u001b[49m\u001b[43m,\u001b[49m\n\u001b[1;32m   1363\u001b[0m \u001b[43m                              \u001b[49m\u001b[43mfinite_diff_rel_step\u001b[49m\u001b[38;5;241;43m=\u001b[39;49m\u001b[43mfinite_diff_rel_step\u001b[49m\u001b[43m)\u001b[49m\n\u001b[1;32m   1365\u001b[0m f \u001b[38;5;241m=\u001b[39m sf\u001b[38;5;241m.\u001b[39mfun\n\u001b[1;32m   1366\u001b[0m myfprime \u001b[38;5;241m=\u001b[39m sf\u001b[38;5;241m.\u001b[39mgrad\n",
      "File \u001b[0;32m~/Anaconda3/envs/COSMO/lib/python3.11/site-packages/scipy/optimize/_optimize.py:332\u001b[0m, in \u001b[0;36m_prepare_scalar_function\u001b[0;34m(fun, x0, jac, args, bounds, epsilon, finite_diff_rel_step, hess)\u001b[0m\n\u001b[1;32m    328\u001b[0m     bounds \u001b[38;5;241m=\u001b[39m (\u001b[38;5;241m-\u001b[39mnp\u001b[38;5;241m.\u001b[39minf, np\u001b[38;5;241m.\u001b[39minf)\n\u001b[1;32m    330\u001b[0m \u001b[38;5;66;03m# ScalarFunction caches. Reuse of fun(x) during grad\u001b[39;00m\n\u001b[1;32m    331\u001b[0m \u001b[38;5;66;03m# calculation reduces overall function evaluations.\u001b[39;00m\n\u001b[0;32m--> 332\u001b[0m sf \u001b[38;5;241m=\u001b[39m \u001b[43mScalarFunction\u001b[49m\u001b[43m(\u001b[49m\u001b[43mfun\u001b[49m\u001b[43m,\u001b[49m\u001b[43m \u001b[49m\u001b[43mx0\u001b[49m\u001b[43m,\u001b[49m\u001b[43m \u001b[49m\u001b[43margs\u001b[49m\u001b[43m,\u001b[49m\u001b[43m \u001b[49m\u001b[43mgrad\u001b[49m\u001b[43m,\u001b[49m\u001b[43m \u001b[49m\u001b[43mhess\u001b[49m\u001b[43m,\u001b[49m\n\u001b[1;32m    333\u001b[0m \u001b[43m                    \u001b[49m\u001b[43mfinite_diff_rel_step\u001b[49m\u001b[43m,\u001b[49m\u001b[43m \u001b[49m\u001b[43mbounds\u001b[49m\u001b[43m,\u001b[49m\u001b[43m \u001b[49m\u001b[43mepsilon\u001b[49m\u001b[38;5;241;43m=\u001b[39;49m\u001b[43mepsilon\u001b[49m\u001b[43m)\u001b[49m\n\u001b[1;32m    335\u001b[0m \u001b[38;5;28;01mreturn\u001b[39;00m sf\n",
      "File \u001b[0;32m~/Anaconda3/envs/COSMO/lib/python3.11/site-packages/scipy/optimize/_differentiable_functions.py:158\u001b[0m, in \u001b[0;36mScalarFunction.__init__\u001b[0;34m(self, fun, x0, args, grad, hess, finite_diff_rel_step, finite_diff_bounds, epsilon)\u001b[0m\n\u001b[1;32m    155\u001b[0m     \u001b[38;5;28mself\u001b[39m\u001b[38;5;241m.\u001b[39mf \u001b[38;5;241m=\u001b[39m fun_wrapped(\u001b[38;5;28mself\u001b[39m\u001b[38;5;241m.\u001b[39mx)\n\u001b[1;32m    157\u001b[0m \u001b[38;5;28mself\u001b[39m\u001b[38;5;241m.\u001b[39m_update_fun_impl \u001b[38;5;241m=\u001b[39m update_fun\n\u001b[0;32m--> 158\u001b[0m \u001b[38;5;28;43mself\u001b[39;49m\u001b[38;5;241;43m.\u001b[39;49m\u001b[43m_update_fun\u001b[49m\u001b[43m(\u001b[49m\u001b[43m)\u001b[49m\n\u001b[1;32m    160\u001b[0m \u001b[38;5;66;03m# Gradient evaluation\u001b[39;00m\n\u001b[1;32m    161\u001b[0m \u001b[38;5;28;01mif\u001b[39;00m callable(grad):\n",
      "File \u001b[0;32m~/Anaconda3/envs/COSMO/lib/python3.11/site-packages/scipy/optimize/_differentiable_functions.py:251\u001b[0m, in \u001b[0;36mScalarFunction._update_fun\u001b[0;34m(self)\u001b[0m\n\u001b[1;32m    249\u001b[0m \u001b[38;5;28;01mdef\u001b[39;00m \u001b[38;5;21m_update_fun\u001b[39m(\u001b[38;5;28mself\u001b[39m):\n\u001b[1;32m    250\u001b[0m     \u001b[38;5;28;01mif\u001b[39;00m \u001b[38;5;129;01mnot\u001b[39;00m \u001b[38;5;28mself\u001b[39m\u001b[38;5;241m.\u001b[39mf_updated:\n\u001b[0;32m--> 251\u001b[0m         \u001b[38;5;28;43mself\u001b[39;49m\u001b[38;5;241;43m.\u001b[39;49m\u001b[43m_update_fun_impl\u001b[49m\u001b[43m(\u001b[49m\u001b[43m)\u001b[49m\n\u001b[1;32m    252\u001b[0m         \u001b[38;5;28mself\u001b[39m\u001b[38;5;241m.\u001b[39mf_updated \u001b[38;5;241m=\u001b[39m \u001b[38;5;28;01mTrue\u001b[39;00m\n",
      "File \u001b[0;32m~/Anaconda3/envs/COSMO/lib/python3.11/site-packages/scipy/optimize/_differentiable_functions.py:155\u001b[0m, in \u001b[0;36mScalarFunction.__init__.<locals>.update_fun\u001b[0;34m()\u001b[0m\n\u001b[1;32m    154\u001b[0m \u001b[38;5;28;01mdef\u001b[39;00m \u001b[38;5;21mupdate_fun\u001b[39m():\n\u001b[0;32m--> 155\u001b[0m     \u001b[38;5;28mself\u001b[39m\u001b[38;5;241m.\u001b[39mf \u001b[38;5;241m=\u001b[39m \u001b[43mfun_wrapped\u001b[49m\u001b[43m(\u001b[49m\u001b[38;5;28;43mself\u001b[39;49m\u001b[38;5;241;43m.\u001b[39;49m\u001b[43mx\u001b[49m\u001b[43m)\u001b[49m\n",
      "File \u001b[0;32m~/Anaconda3/envs/COSMO/lib/python3.11/site-packages/scipy/optimize/_differentiable_functions.py:137\u001b[0m, in \u001b[0;36mScalarFunction.__init__.<locals>.fun_wrapped\u001b[0;34m(x)\u001b[0m\n\u001b[1;32m    133\u001b[0m \u001b[38;5;28mself\u001b[39m\u001b[38;5;241m.\u001b[39mnfev \u001b[38;5;241m+\u001b[39m\u001b[38;5;241m=\u001b[39m \u001b[38;5;241m1\u001b[39m\n\u001b[1;32m    134\u001b[0m \u001b[38;5;66;03m# Send a copy because the user may overwrite it.\u001b[39;00m\n\u001b[1;32m    135\u001b[0m \u001b[38;5;66;03m# Overwriting results in undefined behaviour because\u001b[39;00m\n\u001b[1;32m    136\u001b[0m \u001b[38;5;66;03m# fun(self.x) will change self.x, with the two no longer linked.\u001b[39;00m\n\u001b[0;32m--> 137\u001b[0m fx \u001b[38;5;241m=\u001b[39m \u001b[43mfun\u001b[49m\u001b[43m(\u001b[49m\u001b[43mnp\u001b[49m\u001b[38;5;241;43m.\u001b[39;49m\u001b[43mcopy\u001b[49m\u001b[43m(\u001b[49m\u001b[43mx\u001b[49m\u001b[43m)\u001b[49m\u001b[43m,\u001b[49m\u001b[43m \u001b[49m\u001b[38;5;241;43m*\u001b[39;49m\u001b[43margs\u001b[49m\u001b[43m)\u001b[49m\n\u001b[1;32m    138\u001b[0m \u001b[38;5;66;03m# Make sure the function returns a true scalar\u001b[39;00m\n\u001b[1;32m    139\u001b[0m \u001b[38;5;28;01mif\u001b[39;00m \u001b[38;5;129;01mnot\u001b[39;00m np\u001b[38;5;241m.\u001b[39misscalar(fx):\n",
      "Cell \u001b[0;32mIn[113], line 1\u001b[0m, in \u001b[0;36m<lambda>\u001b[0;34m(*args)\u001b[0m\n\u001b[0;32m----> 1\u001b[0m nll \u001b[38;5;241m=\u001b[39m \u001b[38;5;28;01mlambda\u001b[39;00m \u001b[38;5;241m*\u001b[39margs: \u001b[38;5;241m-\u001b[39m\u001b[43mloglikelihood_fgas1\u001b[49m\u001b[43m(\u001b[49m\u001b[38;5;241;43m*\u001b[39;49m\u001b[43margs\u001b[49m\u001b[43m)\u001b[49m\n\u001b[1;32m      3\u001b[0m initial \u001b[38;5;241m=\u001b[39m np\u001b[38;5;241m.\u001b[39marray([\u001b[38;5;241m0.86\u001b[39m, \u001b[38;5;241m1\u001b[39m]) \u001b[38;5;241m+\u001b[39m \u001b[38;5;241m0.1\u001b[39m \u001b[38;5;241m*\u001b[39m np\u001b[38;5;241m.\u001b[39mrandom\u001b[38;5;241m.\u001b[39mrandn(\u001b[38;5;241m2\u001b[39m)\n\u001b[1;32m      5\u001b[0m soln \u001b[38;5;241m=\u001b[39m minimize(nll, initial, args\u001b[38;5;241m=\u001b[39m(dA_fid, dA_obs, A))\n",
      "Cell \u001b[0;32mIn[110], line 5\u001b[0m, in \u001b[0;36mloglikelihood_fgas1\u001b[0;34m(vals, dA_fid, dA_obs, A)\u001b[0m\n\u001b[1;32m      1\u001b[0m \u001b[38;5;28;01mdef\u001b[39;00m \u001b[38;5;21mloglikelihood_fgas1\u001b[39m(vals, dA_fid, dA_obs, A):\n\u001b[0;32m----> 5\u001b[0m     soma \u001b[38;5;241m=\u001b[39m \u001b[38;5;28msum\u001b[39m(\u001b[43mchi2_fgas1\u001b[49m\u001b[43m(\u001b[49m\u001b[43mvals\u001b[49m\u001b[43m,\u001b[49m\u001b[43m \u001b[49m\u001b[43mdA_fid\u001b[49m\u001b[43m,\u001b[49m\u001b[43m \u001b[49m\u001b[43mdA_obs\u001b[49m\u001b[43m,\u001b[49m\u001b[43m \u001b[49m\u001b[43mA\u001b[49m\u001b[43m)\u001b[49m)\n\u001b[1;32m      7\u001b[0m     \u001b[38;5;28;01mreturn\u001b[39;00m \u001b[38;5;241m-\u001b[39m\u001b[38;5;241m0.5\u001b[39m\u001b[38;5;241m*\u001b[39msoma\n",
      "Cell \u001b[0;32mIn[108], line 6\u001b[0m, in \u001b[0;36mchi2_fgas1\u001b[0;34m(vals, dA_fid, dA_obs, A)\u001b[0m\n\u001b[1;32m      1\u001b[0m \u001b[38;5;28;01mdef\u001b[39;00m \u001b[38;5;21mchi2_fgas1\u001b[39m(vals, dA_fid, dA_obs, A):\n\u001b[1;32m      2\u001b[0m \u001b[38;5;250m    \u001b[39m\u001b[38;5;124;03m'''\u001b[39;00m\n\u001b[1;32m      3\u001b[0m \u001b[38;5;124;03m    chi2_Fgas é a função que calcula o chi-quadrado da fração de massa do gás em\u001b[39;00m\n\u001b[1;32m      4\u001b[0m \u001b[38;5;124;03m    função dos parâmetros de interesse, gamma_0 e eta_0.\u001b[39;00m\n\u001b[1;32m      5\u001b[0m \u001b[38;5;124;03m    '''\u001b[39;00m\n\u001b[0;32m----> 6\u001b[0m     omega_c, omega_b, omega_k, h, w_x \u001b[38;5;241m=\u001b[39m  [param_cosmo_fid]\n\u001b[1;32m      7\u001b[0m     gamma_0, eta_0 \u001b[38;5;241m=\u001b[39m [vals]\n\u001b[1;32m      9\u001b[0m     \u001b[38;5;66;03m# K(z) que é a \"calibration Constant\" no modelo da fração de massa do gás, e o erro =  ± 0.12\u001b[39;00m\n",
      "\u001b[0;31mValueError\u001b[0m: not enough values to unpack (expected 5, got 1)"
     ]
    }
   ],
   "source": [
    "nll = lambda *args: -loglikelihood_fgas1(*args)\n",
    "\n",
    "initial = np.array([0.86, 1]) + 0.1 * np.random.randn(2)\n",
    "\n",
    "soln = minimize(nll, initial, args=(dA_fid, dA_obs, A))\n",
    "\n",
    "gamma_0, eta_0 = soln.x"
   ]
  },
  {
   "cell_type": "code",
   "execution_count": null,
   "id": "b70ab3fa",
   "metadata": {},
   "outputs": [],
   "source": []
  }
 ],
 "metadata": {
  "kernelspec": {
   "display_name": "Python 3 (ipykernel)",
   "language": "python",
   "name": "python3"
  },
  "language_info": {
   "codemirror_mode": {
    "name": "ipython",
    "version": 3
   },
   "file_extension": ".py",
   "mimetype": "text/x-python",
   "name": "python",
   "nbconvert_exporter": "python",
   "pygments_lexer": "ipython3",
   "version": "3.11.2"
  }
 },
 "nbformat": 4,
 "nbformat_minor": 5
}
