{
 "cells": [
  {
   "cell_type": "code",
   "execution_count": 1,
   "id": "114f51f3",
   "metadata": {},
   "outputs": [],
   "source": [
    "import sys, os\n",
    "# sys.path.insert(0,os.path.realpath(os.path.join(os.getcwd(),'..')))\n",
    "import numpy as np\n",
    "import pandas as pd\n",
    "import matplotlib.pyplot as plt\n",
    "import math\n",
    "import seaborn as sns\n",
    "import scipy.integrate as si \n",
    "import warnings\n",
    "warnings.filterwarnings(\"ignore\")\n",
    "\n",
    "from pathlib import Path\n",
    "from HzGPR import H_GPR\n",
    "from HzFid import H_th\n"
   ]
  },
  {
   "cell_type": "markdown",
   "id": "c44efecd",
   "metadata": {},
   "source": [
    "# Measured luminosity distance $d_{L}^{obs}$"
   ]
  },
  {
   "cell_type": "code",
   "execution_count": 2,
   "id": "b33006a4",
   "metadata": {},
   "outputs": [],
   "source": [
    "DL_data = pd.read_csv('LuminosityDistanceObservations.csv')\n",
    "DL_array = np.array(DL_data)"
   ]
  },
  {
   "cell_type": "code",
   "execution_count": 3,
   "id": "49c871a2",
   "metadata": {},
   "outputs": [],
   "source": [
    "# transformando em vetores os dados de Distância de Luminosidade\n",
    "\n",
    "dL_obs = DL_array[0:,1]\n",
    "dL_erro = DL_array[0:,2]\n",
    "redshift = DL_array[0:,0]"
   ]
  },
  {
   "cell_type": "code",
   "execution_count": 4,
   "id": "84fabaf1",
   "metadata": {},
   "outputs": [],
   "source": [
    "#dL_obs"
   ]
  },
  {
   "cell_type": "markdown",
   "id": "c93f00c4",
   "metadata": {},
   "source": [
    "# Equation for cosmic distances and the CDDR\n",
    "\n",
    "The angular diameter distance is defined as:\n",
    "\n",
    "$$ \n",
    "d_{A}(z) = \\chi \\cdot f_k\\left( \\frac{d_{C}(z)}{\\chi} \\right) \\,\\,\\, ,\n",
    "$$\n",
    "\n",
    "where:\n",
    "\n",
    "$$\n",
    "d_{C\\,}(z)=\\int_{0}^{z} \\frac{cdz'}{H(z')} \\,\\,\\, ,\n",
    "$$\n",
    "\n",
    "is the comoving distance. The $\\chi$ is defined as:\n",
    "\n",
    "$$\n",
    "\\chi \\equiv \\frac{c}{H_{0}\\sqrt{|\\Omega_{k}|}} \\,\\,\\,\\, ,\n",
    "$$\n",
    "\n",
    "thus the $ f_{k} $ must be one of three possible cases determined by the curvature $k$: \n",
    "\n",
    " $$\n",
    "   f_{k} = \\left\\{\\begin{matrix}\n",
    "    sin(\\frac{d_{C\\,}(z)}{\\chi}) \\quad , \\quad \\Omega_{k} < 0 \\, \\\\ \n",
    "     d_{C\\,}(z)     \\quad \\,\\,\\,\\, , \\,\\,\\,\\,  \\quad \\,\\,\\,\\,\\,  \\Omega_{k} = 0 \\\\ \n",
    "    sinh(\\frac{d_{C\\,}(z)}{\\chi}) \\quad , \\quad  \\Omega_{k} > 0 \\,\n",
    "   \\end{matrix}\\right. \\,\\,\\,\\, .\n",
    "$$\n",
    "\n",
    "The $D_{A}$ is related to $D_{L}$ through the Etherington reciprocity theorem, also known as the Distance Duality Relation (**DDR**):\n",
    "\n",
    "$$ d_{L} = \\left( 1 + z \\right)^{2} \\, d_{A} $$"
   ]
  },
  {
   "cell_type": "markdown",
   "id": "ee1cd892",
   "metadata": {},
   "source": [
    "## Functions for of angular diameter distance and luminosity distance using H(z) measurements via Cosmic Chronometers"
   ]
  },
  {
   "cell_type": "code",
   "execution_count": 5,
   "id": "b7a7e200",
   "metadata": {},
   "outputs": [],
   "source": [
    "def DC_CC(z):\n",
    "    '''\n",
    "    DC_CC calcula a distância comóvel usando a estimação pra H(z) \n",
    "    via processo Gaussiano de regressão (GPR)\n",
    "    '''\n",
    "    # Velocidade da luz em [km/s]\n",
    "    vel_c = 299792.4580 \n",
    "    \n",
    "    integrando = lambda z_star: vel_c/H_GPR(z_star)\n",
    "    \n",
    "    resultado = []\n",
    "    erro = []\n",
    "    for n in z:\n",
    "        resultado.append(si.quad(integrando,0,n)[0])\n",
    "        erro.append(si.quad(integrando,0,n)[1])\n",
    "    \n",
    "    r = np.array(resultado)\n",
    "    err = np.array(erro)\n",
    "    return r , err\n"
   ]
  },
  {
   "cell_type": "code",
   "execution_count": 6,
   "id": "71eadb54",
   "metadata": {},
   "outputs": [],
   "source": [
    "def DA_obs(omega_k, z):\n",
    "    '''\n",
    "    DA_obs calcula a distância de diâmetro angular levando em conta os dados de H(z)\n",
    "    obtidos através do GPR, para cenários com ou sem curvatura.\n",
    "    '''\n",
    "    \n",
    "    H_0 = H_GPR([0])\n",
    "    DC = DC_CC(z)\n",
    "    \n",
    "    # Velocidade da luz em [km/s]\n",
    "    vel_c = 299792.4580\n",
    "    \n",
    "    if omega_k < 0:\n",
    "        \n",
    "        DA = ( 1.0 / (1.0+z) )*( vel_c /( H_0*np.sqrt(np.abs(omega_k) ) ) )\\\n",
    "                *np.sin( ( H_0*np.sqrt( np.abs(omega_k) )/ velc )*DC[0] )\n",
    "        \n",
    "        return DA, DC[1]\n",
    "    elif omega_k > 0:\n",
    "        \n",
    "        DA = ( 1.0/ (1.0+z) )*( vel_c /( H_0*np.sqrt(np.abs(omega_k ) ) ) )\\\n",
    "                *np.sinh( ( H_0*np.sqrt( np.abs(omega_k ) )/ velc )*DC[0] )\n",
    "        \n",
    "        return DA, DC[1]\n",
    "    else:\n",
    "        \n",
    "        DA = (1.0 / (1.0+z) )*DC[0]\n",
    "        \n",
    "        return DA, DC[1]\n"
   ]
  },
  {
   "cell_type": "markdown",
   "id": "ed21edee",
   "metadata": {},
   "source": [
    "## Functions for angular diameter distance and luminosity distance using $H^{\\text{fid}}(z)$"
   ]
  },
  {
   "cell_type": "markdown",
   "id": "d3dcc02e",
   "metadata": {},
   "source": [
    "To calculate the angular diameter distance, we use the _Hfid.py_ and provide here the list of cosmological parameters for the fiducial model as an array passed to the module. for the $\\Lambda$-CDM model, we have¹ :\n",
    "\n",
    "$$\n",
    "\\begin{bmatrix}\n",
    "\\Omega_{c} \\\\\n",
    "\\Omega_{b} \\\\\n",
    "\\Omega_{k} \\\\\n",
    "h \\\\\n",
    "\\omega_{x}\n",
    "\\end{bmatrix} \\, = \\, \\begin{bmatrix}\n",
    "0.2657 \\\\\n",
    "0.0493 \\\\\n",
    "0 \\\\\n",
    "0.704 \\\\\n",
    "-1\n",
    "\\end{bmatrix}\\,\\,\\, ,\n",
    "$$\n",
    "\n",
    "so we define them a list of _param_cosmo_fid_ as follows"
   ]
  },
  {
   "cell_type": "code",
   "execution_count": 7,
   "id": "26a7d711",
   "metadata": {},
   "outputs": [],
   "source": [
    "param_cosmo_fid = [0.2657, 0.0493, 0, 0.794, -1]"
   ]
  },
  {
   "cell_type": "code",
   "execution_count": 8,
   "id": "e903c8fa",
   "metadata": {},
   "outputs": [],
   "source": [
    "def DC_Fid(param_cosmo, z):\n",
    "    '''\n",
    "    DC_Fid calcula a distância comóvel usando o cálculo teórico de H(z)\n",
    "    '''\n",
    "    \n",
    "    omega_c, omega_b, omega_k, h, w_x = param_cosmo\n",
    "    \n",
    "    # Velocidade da luz em [km/s]\n",
    "    vel_c = 299792.4580 \n",
    "    \n",
    "    integrando = lambda z_star: vel_c/H_th(z_star, [0.2657, 0.00493, 0, 0.704, -1])\n",
    "    \n",
    "    resultado = []\n",
    "    erro = []\n",
    "    for n in z:\n",
    "        resultado.append(si.quad(integrando,0,n)[0])\n",
    "        erro.append(si.quad(integrando,0,n)[1])\n",
    "    \n",
    "    r = np.array(resultado)\n",
    "    err = np.array(erro)\n",
    "    return r , err"
   ]
  },
  {
   "cell_type": "code",
   "execution_count": 9,
   "id": "7f04ed60",
   "metadata": {},
   "outputs": [],
   "source": [
    "def DA_Fid(omega_k, z):\n",
    "    '''\n",
    "    DA_Fid calcula a distância de diâmetro angular usando o valor teórico calculado\n",
    "    para o H(z) usando o modelo fiducial.\n",
    "    '''\n",
    "    \n",
    "    param_cosmo = [0.2657, 0.00493, 0, 0.794, -1]\n",
    "    \n",
    "    H_0 = H_th(z, param_cosmo)\n",
    "    DC = DC_Fid(param_cosmo, z)\n",
    "    \n",
    "    # Velocidade da luz em [km/s]\n",
    "    vel_c = 299792.4580\n",
    "    \n",
    "    if omega_k < 0:\n",
    "        \n",
    "        DA = ( 1.0 / (1.0+z) )*( vel_c /( H_0*np.sqrt(np.abs(omega_k) ) ) )\\\n",
    "                *np.sin( ( H_0*np.sqrt( np.abs(omega_k) )/ velc )*DC[0] )\n",
    "        \n",
    "        return DA, dist_c[1]\n",
    "    elif omega_k > 0:\n",
    "        \n",
    "        DA = ( 1.0/ (1.0+z) )*( vel_c /( H_0*np.sqrt(np.abs(omega_k ) ) ) )\\\n",
    "                *np.sinh( ( H_0*np.sqrt( np.abs(omega_k ) )/ velc )*DC[0] )\n",
    "        \n",
    "        return DA, dist_c[1]\n",
    "    else:\n",
    "        \n",
    "        DA = (1.0 / (1.0+z) )*DC[0]\n",
    "        \n",
    "        return DA, DC[1]"
   ]
  },
  {
   "cell_type": "code",
   "execution_count": 10,
   "id": "48d959a7",
   "metadata": {},
   "outputs": [],
   "source": [
    "def DL_Fid(DA, z):\n",
    "    '''\n",
    "    DL_Fid calcula a distância de luminosidade usando o relação de dualidade\n",
    "    distância\n",
    "    '''\n",
    "    \n",
    "    return  ((1+z)**2)*DA"
   ]
  },
  {
   "cell_type": "markdown",
   "id": "f9835265",
   "metadata": {},
   "source": [
    "## $d_{C}$ and $d_{A}$ results for measures of H(z) using CC:"
   ]
  },
  {
   "cell_type": "code",
   "execution_count": 11,
   "id": "a35cd2aa",
   "metadata": {},
   "outputs": [],
   "source": [
    "dC = DC_CC(redshift)[0]\n",
    "dA_obs = DA_obs(0, redshift)[0]\n",
    "dA_obs_erro = DA_obs(0, redshift)[1]"
   ]
  },
  {
   "cell_type": "code",
   "execution_count": 12,
   "id": "90a6ae7c",
   "metadata": {},
   "outputs": [],
   "source": [
    "#dC"
   ]
  },
  {
   "cell_type": "code",
   "execution_count": 13,
   "id": "bddf95a4",
   "metadata": {},
   "outputs": [],
   "source": [
    "#dA"
   ]
  },
  {
   "cell_type": "markdown",
   "id": "69f30b1d",
   "metadata": {},
   "source": [
    "## $d_{C}^{fid}$,  $d_{A}^{fid}$ and $d_{L}^{fid}$ results from $H(z)^{fid}$"
   ]
  },
  {
   "cell_type": "code",
   "execution_count": 14,
   "id": "22d2d978",
   "metadata": {},
   "outputs": [],
   "source": [
    "dC_fid = DC_Fid(param_cosmo_fid, redshift)[0]\n",
    "dA_fid = DA_Fid(0, redshift)[0]\n",
    "dL_fid = DL_Fid(dA_fid, redshift)"
   ]
  },
  {
   "cell_type": "code",
   "execution_count": 15,
   "id": "aaea3042",
   "metadata": {},
   "outputs": [],
   "source": [
    "#dC_fid"
   ]
  },
  {
   "cell_type": "code",
   "execution_count": 16,
   "id": "0a4973a7",
   "metadata": {},
   "outputs": [],
   "source": [
    "#dA_fid"
   ]
  },
  {
   "cell_type": "code",
   "execution_count": 17,
   "id": "cf542846",
   "metadata": {},
   "outputs": [],
   "source": [
    "#dL_fid"
   ]
  },
  {
   "cell_type": "code",
   "execution_count": 18,
   "id": "8f73911b",
   "metadata": {},
   "outputs": [],
   "source": [
    "#dL_fid"
   ]
  },
  {
   "cell_type": "markdown",
   "id": "082235e8",
   "metadata": {},
   "source": [
    "¹ : you might argue that we're missing $\\Omega_{\\text{rad}}$ but in fact, it is calculated inside HzFid"
   ]
  },
  {
   "cell_type": "markdown",
   "id": "5eab9269",
   "metadata": {},
   "source": [
    "#  Phenomenological expression for $f^{\\text{obs}}_{\\text{gas}}$ and angular aperture A(z,$\\theta$)"
   ]
  },
  {
   "cell_type": "markdown",
   "id": "081e3571",
   "metadata": {},
   "source": [
    "\n",
    "\n",
    "Commonly, the gas mass fraction in the X-ray range is used to link cosmological parameters through an equation that depends on the CDDR, as given by references: [Allen 2008](https://doi.org/10.1111/j.1365-2966.2007.12610.x), [Ettori 2009](\thttps://doi.org/10.1051/0004-6361/200810878), [Allen 2011](https://doi.org/10.1146/annurev-astro-081710-102514), which are the main ones for the current work. Thus, $f^{obs}_{gas}$,\n",
    "\n",
    "\\begin{equation}\n",
    "f^{obs}_{gas}(z)=K \\, A(z)\\, \\gamma(z)\\frac{\\Omega_b}{\\Omega_M}\\left[\\frac{d_L^* d_A^{*1/2}}{d_L d_A^{1/2}}\\right].\n",
    "\\label{eq_da_gmf}\n",
    "\\end{equation}\n",
    "\n",
    "Here, $K$ is a calibration constant, equal to $0.96 \\pm 0.12$, accounting for any bias in gas mass due to non-thermal pressure. $A(z)$ is an angular correction factor,  given by: \n",
    "\n",
    "$$\n",
    "A(z) = \\left[ \\frac{H(z) \\, , D_{L}(z) }{ H(z)^{*}, D_{L}^{*}(z) } \\right]^{\\theta}\\,\\,\\, ,  \n",
    "$$ \n",
    "\n",
    "with the quantities denoted by asterisks obtained from the fiducial cosmological model. For small  values of $\\theta$, $A(z)$ can be chosen as equal to one without loss of generality. $d_{A}$ is the angular diameter distance of each cluster, and $d_{L}$ is the luminosity distance. Finally, $\\gamma$ is the baryon depletion factor. Quantities with asterisks indicate quantities in the fiducial cosmological model.\n",
    "\n",
    "\n",
    "Now we express the **CDDR** as follows:\n",
    "\n",
    "$$\n",
    "\\eta(z) = \\frac{ d_{L} }{d_{A}\\left(1+z\\right)^{2} }\\,\\,\\,\\, ,\n",
    "$$\n",
    "\n",
    "\n",
    "In the case of the CDDR not longer holding, we will have $\\eta(z) \\neq 1$. Using the above relation, we can express the $f^{\\text{obs}}_{gas}$ as:\n",
    "\n",
    "$$\n",
    "f^{obs}_{gás}(z) = \\eta^{2}(z) K \\, A(z)\\, \\gamma(z)\\frac{\\Omega_b}{\\Omega_M}\\ \\left[\\frac{d_A^{*3/2}}{d_A^{3/2}}\\right]\\,\\,\\, .\n",
    "$$"
   ]
  },
  {
   "cell_type": "markdown",
   "id": "98a9fd5e",
   "metadata": {},
   "source": [
    "## Defining the functions for A(z) and $f_{gas}$:"
   ]
  },
  {
   "cell_type": "markdown",
   "id": "b64e2d1a",
   "metadata": {},
   "source": [
    "Next we are going to create the functions which will take care of calculating A(z) and $f_{gas}$, for A(z) we are going to using the most acceptable value for $\\theta$: \n",
    "\n",
    "$$\n",
    "\\theta = 0.442 \\,\\,\\,\\, .\n",
    "$$\n"
   ]
  },
  {
   "cell_type": "code",
   "execution_count": 19,
   "id": "d1318d2c",
   "metadata": {},
   "outputs": [],
   "source": [
    "def Az(dL_obs, dL_fid, z, param_cosmo=param_cosmo_fid):\n",
    "    '''\n",
    "    Az calcula a função A(z) que depende do parâmetro theta.\n",
    "    \n",
    "    '''\n",
    "    \n",
    "    theta = 0.442\n",
    "    \n",
    "    fiducial = (H_th(z, param_cosmo)*dL_fid)\n",
    "    \n",
    "    return (( H_GPR(z)*dL_obs)/fiducial)**theta\n"
   ]
  },
  {
   "cell_type": "code",
   "execution_count": 20,
   "id": "56f42e3c",
   "metadata": {},
   "outputs": [
    {
     "data": {
      "text/plain": [
       "array([0.92889421, 0.92927904, 0.92987339, 0.92987339, 0.93194444,\n",
       "       0.93436411, 0.93463988, 0.93465731, 0.93557626, 0.93557626,\n",
       "       0.93558592, 0.93627873, 0.93633539, 0.93896705, 0.93900018,\n",
       "       0.93918025, 0.93941337, 0.94030037, 0.94059275, 0.94074821,\n",
       "       0.94107935, 0.94107935, 0.94171048, 0.94220016, 0.94252358,\n",
       "       0.94272601, 0.9434994 , 0.94419141, 0.94441218, 0.94454463,\n",
       "       0.94486944, 0.9448986 , 0.9458626 , 0.94756848, 0.94869787,\n",
       "       0.94928189, 0.95173353, 0.95212551, 0.95337141, 0.95296536])"
      ]
     },
     "execution_count": 20,
     "metadata": {},
     "output_type": "execute_result"
    }
   ],
   "source": [
    "A = Az(dL_obs, dL_fid, redshift, param_cosmo=param_cosmo_fid)\n",
    "A"
   ]
  },
  {
   "cell_type": "code",
   "execution_count": 21,
   "id": "6a233ccc",
   "metadata": {},
   "outputs": [],
   "source": [
    "def fgas_th(dA_obs, dA_fid, A, param_cosmo=param_cosmo_fid):\n",
    "    '''\n",
    "    Fgas_th é a expressão fenomenológica para a fração de massa do gás\n",
    "    \n",
    "    '''\n",
    "    K = 0.96\n",
    "    omega_b = param_cosmo[1]\n",
    "    omega_m = param_cosmo[0] + omega_b\n",
    "    \n",
    "    return (K*(omega_b)/(omega_m))*(A)*((dA_fid/dA_obs)**(3.0/2.0))"
   ]
  },
  {
   "cell_type": "code",
   "execution_count": 22,
   "id": "fa3fc537",
   "metadata": {},
   "outputs": [
    {
     "data": {
      "text/plain": [
       "array([0.13299749, 0.13309455, 0.13324661, 0.13324661, 0.13380108,\n",
       "       0.13450859, 0.13459059, 0.13460009, 0.13487985, 0.13487985,\n",
       "       0.1348882 , 0.13511098, 0.13512818, 0.13601342, 0.1360273 ,\n",
       "       0.1360866 , 0.13617682, 0.13649886, 0.13660804, 0.13665881,\n",
       "       0.13678356, 0.13678356, 0.13702238, 0.13724255, 0.13734912,\n",
       "       0.13742933, 0.13773656, 0.13803697, 0.1381216 , 0.13818367,\n",
       "       0.13832725, 0.13834219, 0.13876479, 0.13959491, 0.14018333,\n",
       "       0.14050019, 0.14209863, 0.14240235, 0.14593515, 0.14621306])"
      ]
     },
     "execution_count": 22,
     "metadata": {},
     "output_type": "execute_result"
    }
   ],
   "source": [
    "fgas_th(dA_obs, dA_fid, A, param_cosmo=param_cosmo_fid)"
   ]
  },
  {
   "cell_type": "markdown",
   "id": "d9e0e6a2",
   "metadata": {},
   "source": [
    "# Obsersavations of $f_{gas}$: data from CHANDRA"
   ]
  },
  {
   "cell_type": "markdown",
   "id": "44542c71",
   "metadata": {},
   "source": [
    "The gas mass fraction data used for the analysis are obtained from [Mantz_2015](https://doi.org/10.1093/mnras/stu368), consisting of 40 objects within the redshift range $0.078 \\leq z \\leq 1.063$. These objects were selected by the author from a larger sample of _CHANDRA_ observations. In the total set of observations, a selection algorithm is employed to ensure that only the most massive and dynamically relaxed clusters form the final dataset. These criteria are of vital importance to avoid theoretical uncertainty effects when implementing simulations of hydrodynamic quantities relevant for cluster mass determination."
   ]
  },
  {
   "cell_type": "code",
   "execution_count": 23,
   "id": "b87bc93e",
   "metadata": {},
   "outputs": [],
   "source": [
    "fgas_data = pd.read_csv('GMF.csv')\n",
    "fgas_array = np.array(fgas_data)"
   ]
  },
  {
   "cell_type": "code",
   "execution_count": 24,
   "id": "c06ca5c2",
   "metadata": {},
   "outputs": [],
   "source": [
    "z = fgas_array[0:,0]\n",
    "fgas = fgas_array[0:,1]\n",
    "fgas_erro = fgas_array[0:,2]"
   ]
  },
  {
   "cell_type": "code",
   "execution_count": 25,
   "id": "41c19acb",
   "metadata": {},
   "outputs": [],
   "source": [
    "A = Az(dL_obs, dL_fid, z, param_cosmo=param_cosmo_fid)\n",
    "FMGas = fgas_th(dA_obs, dA_fid, A, param_cosmo=param_cosmo_fid)"
   ]
  },
  {
   "cell_type": "code",
   "execution_count": 26,
   "id": "d25631b2",
   "metadata": {},
   "outputs": [],
   "source": [
    "#A\n",
    "#FMGas"
   ]
  },
  {
   "cell_type": "code",
   "execution_count": 27,
   "id": "c62cff5a",
   "metadata": {},
   "outputs": [
    {
     "data": {
      "text/plain": [
       "(0.038, 1.113)"
      ]
     },
     "execution_count": 27,
     "metadata": {},
     "output_type": "execute_result"
    },
    {
     "data": {
      "image/png": "[encoded data removed]",
      "text/plain": [
       "<Figure size 1000x600 with 1 Axes>"
      ]
     },
     "metadata": {},
     "output_type": "display_data"
    }
   ],
   "source": [
    "fig, ax = plt.subplots(figsize=(10,6))\n",
    "plt.errorbar(z, fgas, yerr=fgas_erro, color='black', label = r'$Dados\\, de\\, f_{gás}$', fmt=\"o\")\n",
    "ax.set(title=\"Plot de 40 observações da fração de massa do gás de Aglomerados de Galáxias\")\n",
    "plt.axhline(y = np.mean(fgas), color = 'gray', linestyle = '--') \n",
    "plt.xlabel('z', fontsize=21, fontweight='bold')\n",
    "plt.ylabel(r'$\\, f_{gás} \\, $', fontsize=21, fontweight='bold')\n",
    "ax.legend(loc='upper right')\n",
    "plt.xlim([z.min()-0.04,z.max()+0.05])"
   ]
  },
  {
   "cell_type": "markdown",
   "id": "0192449d",
   "metadata": {},
   "source": [
    "# Saving data"
   ]
  },
  {
   "cell_type": "code",
   "execution_count": 28,
   "id": "8d4a79a8",
   "metadata": {},
   "outputs": [],
   "source": [
    "dist_data = {'redshift': z, 'dA_obs': dA_obs , 'dL_obs': dL_obs,  ' dA_fid': dA_fid, 'dL_fid': dL_fid,\n",
    "                'dA_obs_erro': dA_obs_erro, 'dL_fid_erro':dL_erro , }\n",
    "\n",
    "gmf_data = {'redshift':redshift , 'A': A, 'gmf_bar':FMGas, 'gmf_obs':fgas,  'gmf_erro':fgas_erro}"
   ]
  },
  {
   "cell_type": "code",
   "execution_count": 29,
   "id": "2c26e487",
   "metadata": {},
   "outputs": [],
   "source": [
    "dData = pd.DataFrame(dist_data)\n",
    "dData.to_csv('Saved_Data/DistData.csv')"
   ]
  },
  {
   "cell_type": "code",
   "execution_count": 30,
   "id": "51aadbd5",
   "metadata": {},
   "outputs": [],
   "source": [
    "FMgas_dados = pd.DataFrame(gmf_data)\n",
    "FMgas_dados.to_csv('Saved_Data/FMGas.csv', index=False)"
   ]
  },
  {
   "cell_type": "code",
   "execution_count": null,
   "id": "e696b1e4",
   "metadata": {},
   "outputs": [],
   "source": []
  }
 ],
 "metadata": {
  "kernelspec": {
   "display_name": "Python 3 (ipykernel)",
   "language": "python",
   "name": "python3"
  },
  "language_info": {
   "codemirror_mode": {
    "name": "ipython",
    "version": 3
   },
   "file_extension": ".py",
   "mimetype": "text/x-python",
   "name": "python",
   "nbconvert_exporter": "python",
   "pygments_lexer": "ipython3",
   "version": "3.11.2"
  }
 },
 "nbformat": 4,
 "nbformat_minor": 5
}
